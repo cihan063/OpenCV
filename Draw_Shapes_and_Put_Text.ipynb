{
  "nbformat": 4,
  "nbformat_minor": 0,
  "metadata": {
    "colab": {
      "name": "Draw_Shapes_and_Put_Text",
      "provenance": [],
      "authorship_tag": "ABX9TyN8Rwu4qqWtXkUijw4GEyeG",
      "include_colab_link": true
    },
    "kernelspec": {
      "name": "python3",
      "display_name": "Python 3"
    }
  },
  "cells": [
    {
      "cell_type": "markdown",
      "metadata": {
        "id": "view-in-github",
        "colab_type": "text"
      },
      "source": [
        "<a href=\"https://colab.research.google.com/github/cihan063/OpenCV/blob/master/Draw_Shapes_and_Put_Text.ipynb\" target=\"_parent\"><img src=\"https://colab.research.google.com/assets/colab-badge.svg\" alt=\"Open In Colab\"/></a>"
      ]
    },
    {
      "cell_type": "code",
      "metadata": {
        "id": "8nHBZ7h7r-Ie",
        "colab_type": "code",
        "colab": {}
      },
      "source": [
        "import numpy as np \n",
        "import cv2 \n",
        "from google.colab.patches import cv2_imshow"
      ],
      "execution_count": 23,
      "outputs": []
    },
    {
      "cell_type": "code",
      "metadata": {
        "id": "QKfzCzgb2oEk",
        "colab_type": "code",
        "colab": {
          "base_uri": "https://localhost:8080/",
          "height": 34
        },
        "outputId": "003ca529-53d2-4360-dc14-f0cc8153bdfd"
      },
      "source": [
        "%cd sample_data"
      ],
      "execution_count": 26,
      "outputs": [
        {
          "output_type": "stream",
          "text": [
            "/content/sample_data\n"
          ],
          "name": "stdout"
        }
      ]
    },
    {
      "cell_type": "markdown",
      "metadata": {
        "id": "tY95coyC3oG8",
        "colab_type": "text"
      },
      "source": [
        "# **Drawing Shapes and Writing Text on an Image**"
      ]
    },
    {
      "cell_type": "markdown",
      "metadata": {
        "id": "EE51yy046mB8",
        "colab_type": "text"
      },
      "source": [
        "**Draw Rectangle**"
      ]
    },
    {
      "cell_type": "code",
      "metadata": {
        "id": "J0m75IUg16HP",
        "colab_type": "code",
        "colab": {
          "base_uri": "https://localhost:8080/",
          "height": 517
        },
        "outputId": "7e2b9f65-25a1-49a3-cc03-9b85c0c9adb0"
      },
      "source": [
        "pic = np.zeros((500,500,3), dtype='uint8')\n",
        "cv2.rectangle(pic, (150,0), (480,250), (255,255,255), 3 ,lineType=8, shift=0)# (150,0) is point to where we want to draw a rectangle\n",
        "                                                                            # (480,250) is rectangle sizes\n",
        "                                                                            #(255,255,255) is color(BGR format)\n",
        "cv2_imshow(pic)\n"
      ],
      "execution_count": 51,
      "outputs": [
        {
          "output_type": "display_data",
          "data": {
            "image/png": "[encoded data removed]",
            "text/plain": [
              "<PIL.Image.Image image mode=RGB size=500x500 at 0x7F3FA9EF2828>"
            ]
          },
          "metadata": {
            "tags": []
          }
        }
      ]
    },
    {
      "cell_type": "markdown",
      "metadata": {
        "id": "3lOPGT3M6olL",
        "colab_type": "text"
      },
      "source": [
        "**Draw Line**"
      ]
    },
    {
      "cell_type": "code",
      "metadata": {
        "id": "yRPtUxmv4J6j",
        "colab_type": "code",
        "colab": {
          "base_uri": "https://localhost:8080/",
          "height": 517
        },
        "outputId": "a435e6d9-d9c9-4506-848a-17f67be9f9ef"
      },
      "source": [
        "pic1 = np.zeros((500,500,3), dtype='uint8')\n",
        "cv2.line(pic1, (120,100),(500,200),(0,0,255))\n",
        "cv2_imshow(pic1)"
      ],
      "execution_count": 55,
      "outputs": [
        {
          "output_type": "display_data",
          "data": {
            "image/png": "[encoded data removed]",
            "text/plain": [
              "<PIL.Image.Image image mode=RGB size=500x500 at 0x7F3FA9EF26D8>"
            ]
          },
          "metadata": {
            "tags": []
          }
        }
      ]
    },
    {
      "cell_type": "code",
      "metadata": {
        "id": "AgpSjiUh6_VF",
        "colab_type": "code",
        "colab": {
          "base_uri": "https://localhost:8080/",
          "height": 517
        },
        "outputId": "e6fa0f6f-9824-42f0-9574-44a71c9395ae"
      },
      "source": [
        "pic2 = np.zeros((500,500,3), dtype='uint8')\n",
        "cv2.circle(pic2, (250,250),50,(0,0,255))\n",
        "cv2_imshow(pic2)"
      ],
      "execution_count": 57,
      "outputs": [
        {
          "output_type": "display_data",
          "data": {
            "image/png": "[encoded data removed]",
            "text/plain": [
              "<PIL.Image.Image image mode=RGB size=500x500 at 0x7F3FA9EF22E8>"
            ]
          },
          "metadata": {
            "tags": []
          }
        }
      ]
    },
    {
      "cell_type": "markdown",
      "metadata": {
        "id": "NMEdO8Sl-_zU",
        "colab_type": "text"
      },
      "source": [
        "**Writing Text**"
      ]
    },
    {
      "cell_type": "code",
      "metadata": {
        "id": "8jemFiBY9PSN",
        "colab_type": "code",
        "colab": {
          "base_uri": "https://localhost:8080/",
          "height": 517
        },
        "outputId": "e72d6304-8b43-43d0-cf21-021c525145ad"
      },
      "source": [
        "pic3 = np.zeros((500,500,3), dtype='uint8')\n",
        "cv2.putText(pic3, \"Hello OpenCV\",(25,250),cv2.FONT_HERSHEY_COMPLEX, 2, (0,0,255), 1)\n",
        "cv2_imshow(pic3)\n"
      ],
      "execution_count": 73,
      "outputs": [
        {
          "output_type": "display_data",
          "data": {
            "image/png": "[encoded data removed]",
            "text/plain": [
              "<PIL.Image.Image image mode=RGB size=500x500 at 0x7F3FA9E6AE10>"
            ]
          },
          "metadata": {
            "tags": []
          }
        }
      ]
    },
    {
      "cell_type": "markdown",
      "metadata": {
        "id": "UyUXDT8qA0Un",
        "colab_type": "text"
      },
      "source": [
        "**Drawing Combination**"
      ]
    },
    {
      "cell_type": "code",
      "metadata": {
        "id": "ogonS2T9_cuE",
        "colab_type": "code",
        "colab": {
          "base_uri": "https://localhost:8080/",
          "height": 517
        },
        "outputId": "7288a9a3-38a2-43d5-b7ed-8d69cf2df7e8"
      },
      "source": [
        "pic4 = np.zeros((500,500,3), dtype='uint8')\n",
        "cv2.rectangle(pic4, (0,0), (500,150), (0,0,255), 3 ,lineType=8, shift=0)\n",
        "cv2.putText(pic4, \"Hello\",(150,100),cv2.FONT_HERSHEY_COMPLEX, 2, (0,0,255), 1)\n",
        "cv2.circle(pic4, (235,75),90,(0,0,255),thickness=2)\n",
        "cv2_imshow(pic4)"
      ],
      "execution_count": 95,
      "outputs": [
        {
          "output_type": "display_data",
          "data": {
            "image/png": "[encoded data removed]",
            "text/plain": [
              "<PIL.Image.Image image mode=RGB size=500x500 at 0x7F3FA9E9C828>"
            ]
          },
          "metadata": {
            "tags": []
          }
        }
      ]
    },
    {
      "cell_type": "code",
      "metadata": {
        "id": "BPV-s5zWB6KS",
        "colab_type": "code",
        "colab": {}
      },
      "source": [
        ""
      ],
      "execution_count": null,
      "outputs": []
    }
  ]
}